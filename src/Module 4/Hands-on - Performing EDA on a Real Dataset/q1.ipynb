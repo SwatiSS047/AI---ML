{
 "cells": [
  {
   "cell_type": "markdown",
   "metadata": {},
   "source": [
    "Question 1: Load a CSV file containing a dataset into a Pandas DataFrame. Display the first few rows to understand its basic structure."
   ]
  },
  {
   "cell_type": "code",
   "execution_count": 14,
   "metadata": {},
   "outputs": [
    {
     "name": "stdout",
     "output_type": "stream",
     "text": [
      "Error: The file was not found at the specified path: 'E:\\clubcoder\\Python\\IBM'.\n",
      "Please double-check the path and file name for typos.\n",
      "Make sure the file actually exists at that location.\n"
     ]
    }
   ],
   "source": [
    "import pandas as pd\n",
    "\n",
    "# --- OPTION 2: Provide the full, absolute path to your CSV file ---\n",
    "# IMPORTANT: Replace this with the ACTUAL full path to your CSV file on your system.\n",
    "# Use forward slashes (/) for paths, even on Windows, or double backslashes (\\\\)\n",
    "# For Windows: r'C:\\Users\\YourUser\\Documents\\your_dataset.csv' (the 'r' makes it a raw string)\n",
    "# For macOS/Linux: '/Users/YourUser/Documents/your_dataset.csv'\n",
    "csv_file_path = 'E:\\clubcoder\\Python\\IBM' # EXAMPLE PATH: YOU MUST CHANGE THIS!\n",
    "\n",
    "try:\n",
    "    # Load the CSV file into a Pandas DataFrame\n",
    "    df = pd.read_csv(csv_file_path)\n",
    "\n",
    "    # Display the first few rows of the DataFrame\n",
    "    print(f\"Successfully loaded '{csv_file_path}'.\")\n",
    "    print(\"First 5 rows of the DataFrame:\")\n",
    "    print(df.head())\n",
    "\n",
    "except FileNotFoundError:\n",
    "    print(f\"Error: The file was not found at the specified path: '{csv_file_path}'.\")\n",
    "    print(\"Please double-check the path and file name for typos.\")\n",
    "    print(\"Make sure the file actually exists at that location.\")\n",
    "except Exception as e:\n",
    "    print(f\"An unexpected error occurred: {e}\")"
   ]
  },
  {
   "cell_type": "markdown",
   "metadata": {},
   "source": [
    "Question 2: Determine the number of rows and columns in the dataset."
   ]
  },
  {
   "cell_type": "code",
   "execution_count": 15,
   "metadata": {},
   "outputs": [
    {
     "name": "stdout",
     "output_type": "stream",
     "text": [
      "Error: The file was not found at the specified path: 'E:/clubcoder/Python/IBM/my_data.csv'.\n",
      "Please ensure the path and filename are correct.\n"
     ]
    }
   ],
   "source": [
    "import pandas as pd\n",
    "import os\n",
    "\n",
    "# --- IMPORTANT: Ensure this path is correct for your file ---\n",
    "# This path should now point to your actual CSV file, e.g., 'E:/clubcoder/Python/IBM/my_data.csv'\n",
    "csv_file_path = 'E:/clubcoder/Python/IBM/my_data.csv' # REMEMBER TO REPLACE 'my_data.csv' with your actual file name!\n",
    "\n",
    "try:\n",
    "    # Load the CSV file into a Pandas DataFrame\n",
    "    df = pd.read_csv(csv_file_path)\n",
    "\n",
    "    print(f\"Successfully loaded '{os.path.basename(csv_file_path)}'.\")\n",
    "\n",
    "    # --- Determine the number of rows and columns ---\n",
    "    num_rows, num_columns = df.shape\n",
    "\n",
    "    print(f\"\\nDataset Dimensions:\")\n",
    "    print(f\"Number of Rows: {num_rows}\")\n",
    "    print(f\"Number of Columns: {num_columns}\")\n",
    "\n",
    "except FileNotFoundError:\n",
    "    print(f\"Error: The file was not found at the specified path: '{csv_file_path}'.\")\n",
    "    print(\"Please ensure the path and filename are correct.\")\n",
    "except pd.errors.EmptyDataError:\n",
    "    print(f\"Error: The file '{csv_file_path}' is empty or contains no data.\")\n",
    "except pd.errors.ParserError as e:\n",
    "    print(f\"Error parsing the CSV file: {e}\")\n",
    "    print(\"This might be due to a malformed CSV, incorrect delimiter, or encoding issues.\")\n",
    "except Exception as e:\n",
    "    print(f\"An unexpected error occurred: {e}\")"
   ]
  },
  {
   "cell_type": "markdown",
   "metadata": {},
   "source": [
    "Question 3: Identify the data type of each column in the dataset."
   ]
  },
  {
   "cell_type": "code",
   "execution_count": 16,
   "metadata": {},
   "outputs": [
    {
     "name": "stdout",
     "output_type": "stream",
     "text": [
      "Error: The file was not found at the specified path: 'E:/clubcoder/Python/IBM/my_data.csv'.\n",
      "Please ensure the path and filename are correct.\n"
     ]
    }
   ],
   "source": [
    "import pandas as pd\n",
    "import os\n",
    "\n",
    "# --- IMPORTANT: Ensure this path is correct for your file ---\n",
    "# This path should point to your actual CSV file, e.g., 'E:/clubcoder/Python/IBM/my_data.csv'\n",
    "csv_file_path = 'E:/clubcoder/Python/IBM/my_data.csv' # REMEMBER TO REPLACE 'my_data.csv' with your actual file name!\n",
    "\n",
    "try:\n",
    "    # Load the CSV file into a Pandas DataFrame\n",
    "    df = pd.read_csv(csv_file_path)\n",
    "\n",
    "    print(f\"Successfully loaded '{os.path.basename(csv_file_path)}'.\")\n",
    "\n",
    "    # --- Method 1: Using .dtypes attribute ---\n",
    "    print(\"\\nData types of each column (using .dtypes):\")\n",
    "    print(df.dtypes)\n",
    "\n",
    "    # --- Method 2: Using .info() method ---\n",
    "    # .info() also provides non-null counts and memory usage, which is often very helpful.\n",
    "    print(\"\\nConcise summary of the DataFrame (using .info()):\")\n",
    "    df.info()\n",
    "\n",
    "except FileNotFoundError:\n",
    "    print(f\"Error: The file was not found at the specified path: '{csv_file_path}'.\")\n",
    "    print(\"Please ensure the path and filename are correct.\")\n",
    "except pd.errors.EmptyDataError:\n",
    "    print(f\"Error: The file '{csv_file_path}' is empty or contains no data.\")\n",
    "except pd.errors.ParserError as e:\n",
    "    print(f\"Error parsing the CSV file: {e}\")\n",
    "    print(\"This might be due to a malformed CSV, incorrect delimiter, or encoding issues.\")\n",
    "except Exception as e:\n",
    "    print(f\"An unexpected error occurred: {e}\")"
   ]
  },
  {
   "cell_type": "markdown",
   "metadata": {},
   "source": [
    "Question 4: Generate summary statistics for the numerical columns in the dataset."
   ]
  },
  {
   "cell_type": "code",
   "execution_count": 17,
   "metadata": {},
   "outputs": [
    {
     "name": "stdout",
     "output_type": "stream",
     "text": [
      "Error: The file was not found at the specified path: 'E:/clubcoder/Python/IBM/my_data.csv'.\n",
      "Please ensure the path and filename are correct.\n"
     ]
    }
   ],
   "source": [
    "import pandas as pd\n",
    "import os\n",
    "\n",
    "# --- IMPORTANT: Ensure this path is correct for your file ---\n",
    "# This path should point to your actual CSV file, e.g., 'E:/clubcoder/Python/IBM/my_data.csv'\n",
    "csv_file_path = 'E:/clubcoder/Python/IBM/my_data.csv' # REMEMBER TO REPLACE 'my_data.csv' with your actual file name!\n",
    "\n",
    "try:\n",
    "    # Load the CSV file into a Pandas DataFrame\n",
    "    df = pd.read_csv(csv_file_path)\n",
    "\n",
    "    print(f\"Successfully loaded '{os.path.basename(csv_file_path)}'.\")\n",
    "\n",
    "    # --- Generate summary statistics for numerical columns ---\n",
    "    print(\"\\nSummary Statistics for Numerical Columns:\")\n",
    "    print(df.describe())\n",
    "\n",
    "    # Optional: Generate summary statistics for ALL columns, including object/categorical\n",
    "    # print(\"\\nSummary Statistics for ALL Columns (including categorical):\")\n",
    "    # print(df.describe(include='all'))\n",
    "\n",
    "except FileNotFoundError:\n",
    "    print(f\"Error: The file was not found at the specified path: '{csv_file_path}'.\")\n",
    "    print(\"Please ensure the path and filename are correct.\")\n",
    "except pd.errors.EmptyDataError:\n",
    "    print(f\"Error: The file '{csv_file_path}' is empty or contains no data.\")\n",
    "except pd.errors.ParserError as e:\n",
    "    print(f\"Error parsing the CSV file: {e}\")\n",
    "    print(\"This might be due to a malformed CSV, incorrect delimiter, or encoding issues.\")\n",
    "except Exception as e:\n",
    "    print(f\"An unexpected error occurred: {e}\")"
   ]
  },
  {
   "cell_type": "markdown",
   "metadata": {},
   "source": [
    "Question 5: Identify columns with missing values and count the number of missing values in each."
   ]
  },
  {
   "cell_type": "code",
   "execution_count": 18,
   "metadata": {},
   "outputs": [
    {
     "name": "stdout",
     "output_type": "stream",
     "text": [
      "Attempting to load file from: E:/clubcoder/Python/IBM/my_data.csv\n",
      "\n",
      "ERROR: The file was NOT found at the specified path: 'E:/clubcoder/Python/IBM/my_data.csv'.\n",
      "Please double-check the path and the exact filename (including extension and case).\n",
      "Ensure the file exists at that precise location.\n"
     ]
    }
   ],
   "source": [
    "import pandas as pd\n",
    "import os\n",
    "\n",
    "# --- YOU MUST UPDATE THIS LINE WITH THE ACTUAL, CORRECT PATH TO YOUR CSV FILE ---\n",
    "# Example: If your file is truly named 'my_data.csv' and is in that 'IBM' folder,\n",
    "# and you verified its location as E:\\clubcoder\\Python\\IBM\\my_data.csv, use:\n",
    "csv_file_path = 'E:/clubcoder/Python/IBM/my_data.csv'\n",
    "\n",
    "# If your file has a different name, e.g., 'train.csv', update it like this:\n",
    "# csv_file_path = 'E:/clubcoder/Python/IBM/train.csv'\n",
    "\n",
    "# Using a raw string for backslashes (Windows style):\n",
    "# csv_file_path = r'E:\\clubcoder\\Python\\IBM\\my_data.csv'\n",
    "\n",
    "print(f\"Attempting to load file from: {csv_file_path}\")\n",
    "\n",
    "try:\n",
    "    # Load the CSV file into a Pandas DataFrame\n",
    "    df = pd.read_csv(csv_file_path)\n",
    "\n",
    "    print(f\"\\nSuccessfully loaded '{os.path.basename(csv_file_path)}'.\")\n",
    "\n",
    "    # --- Identify columns with missing values and count them ---\n",
    "    # 1. df.isnull() creates a DataFrame of booleans (True for NaN/missing, False otherwise)\n",
    "    # 2. .sum() on this boolean DataFrame counts True values (which are treated as 1) column-wise\n",
    "    missing_values_count = df.isnull().sum()\n",
    "\n",
    "    # Filter to show only columns that have at least one missing value\n",
    "    columns_with_missing_values = missing_values_count[missing_values_count > 0]\n",
    "\n",
    "    if not columns_with_missing_values.empty:\n",
    "        print(\"\\nColumns with Missing Values and their Counts:\")\n",
    "        print(\"---------------------------------------------\")\n",
    "        print(columns_with_missing_values)\n",
    "        print(\"---------------------------------------------\")\n",
    "    else:\n",
    "        print(\"\\nNo missing values found in any column in the dataset.\")\n",
    "\n",
    "except FileNotFoundError:\n",
    "    print(f\"\\nERROR: The file was NOT found at the specified path: '{csv_file_path}'.\")\n",
    "    print(\"Please double-check the path and the exact filename (including extension and case).\")\n",
    "    print(\"Ensure the file exists at that precise location.\")\n",
    "    # You can uncomment the following lines to help debug the directory contents if you're stuck:\n",
    "    # parent_dir = os.path.dirname(csv_file_path)\n",
    "    # if os.path.isdir(parent_dir):\n",
    "    #     print(f\"\\nContents of the directory '{parent_dir}':\")\n",
    "    #     print(os.listdir(parent_dir))\n",
    "    # else:\n",
    "    #     print(f\"\\nThe parent directory '{parent_dir}' does not exist or is not accessible.\")\n",
    "except pd.errors.EmptyDataError:\n",
    "    print(f\"\\nError: The file '{csv_file_path}' is empty or contains no data.\")\n",
    "except pd.errors.ParserError as e:\n",
    "    print(f\"\\nError parsing the CSV file: {e}\")\n",
    "    print(\"This might be due to a malformed CSV, incorrect delimiter, or encoding issues.\")\n",
    "except Exception as e:\n",
    "    print(f\"\\nAn unexpected error occurred during file processing: {e}\")"
   ]
  },
  {
   "cell_type": "markdown",
   "metadata": {},
   "source": [
    "Question 6: Replace missing values in a column with the median value of that column."
   ]
  },
  {
   "cell_type": "code",
   "execution_count": 19,
   "metadata": {},
   "outputs": [
    {
     "name": "stdout",
     "output_type": "stream",
     "text": [
      "Attempting to load file from: E:/clubcoder/Python/IBM/my_data.csv\n",
      "\n",
      "ERROR: The file was NOT found at the specified path: 'E:/clubcoder/Python/IBM/my_data.csv'.\n",
      "Please double-check the path and the exact filename (including extension and case).\n",
      "Ensure the file exists at that precise location.\n"
     ]
    }
   ],
   "source": [
    "import pandas as pd\n",
    "import numpy as np # Often useful for numerical operations, though not strictly needed for median\n",
    "import os\n",
    "\n",
    "# --- YOU MUST UPDATE THIS LINE WITH THE ACTUAL, CORRECT PATH TO YOUR CSV FILE ---\n",
    "csv_file_path = 'E:/clubcoder/Python/IBM/my_data.csv'\n",
    "\n",
    "# --- REPLACE 'Your_Numerical_Column_Name' with the ACTUAL NAME of your column ---\n",
    "# This should be a column you identified in Question 5 as having missing values\n",
    "# and that is numerical (int, float).\n",
    "column_to_impute = 'Your_Numerical_Column_Name'\n",
    "\n",
    "print(f\"Attempting to load file from: {csv_file_path}\")\n",
    "\n",
    "try:\n",
    "    # Load the CSV file into a Pandas DataFrame\n",
    "    df = pd.read_csv(csv_file_path)\n",
    "\n",
    "    print(f\"\\nSuccessfully loaded '{os.path.basename(csv_file_path)}'.\")\n",
    "\n",
    "    # --- Check if the column exists and is numerical ---\n",
    "    if column_to_impute not in df.columns:\n",
    "        print(f\"\\nError: Column '{column_to_impute}' not found in the dataset.\")\n",
    "        print(\"Please check the column name for typos and ensure it exists.\")\n",
    "    elif not pd.api.types.is_numeric_dtype(df[column_to_impute]):\n",
    "        print(f\"\\nError: Column '{column_to_impute}' is not a numerical type (its type is {df[column_to_impute].dtype}).\")\n",
    "        print(\"Median imputation is typically applied to numerical columns.\")\n",
    "        print(\"Please choose a numerical column with missing values.\")\n",
    "    else:\n",
    "        # --- Identify missing values before imputation ---\n",
    "        initial_missing_count = df[column_to_impute].isnull().sum()\n",
    "        if initial_missing_count == 0:\n",
    "            print(f\"\\nColumn '{column_to_impute}' has no missing values. No imputation needed.\")\n",
    "        else:\n",
    "            print(f\"\\nMissing values in '{column_to_impute}' BEFORE imputation: {initial_missing_count}\")\n",
    "\n",
    "            # Calculate the median of the column\n",
    "            median_value = df[column_to_impute].median()\n",
    "            print(f\"Median of column '{column_to_impute}': {median_value}\")\n",
    "\n",
    "            # Replace missing values (NaN) with the calculated median\n",
    "            # .fillna() returns a new Series/DataFrame, so reassign it\n",
    "            df[column_to_impute] = df[column_to_impute].fillna(median_value)\n",
    "\n",
    "            # Verify that missing values have been replaced\n",
    "            final_missing_count = df[column_to_impute].isnull().sum()\n",
    "            print(f\"Missing values in '{column_to_impute}' AFTER imputation: {final_missing_count}\")\n",
    "\n",
    "            if final_missing_count == 0:\n",
    "                print(f\"Successfully replaced {initial_missing_count} missing values in '{column_to_impute}' with its median ({median_value}).\")\n",
    "            else:\n",
    "                print(f\"Warning: Some missing values may still remain in '{column_to_impute}'. Check for non-NaN missing indicators.\")\n",
    "\n",
    "except FileNotFoundError:\n",
    "    print(f\"\\nERROR: The file was NOT found at the specified path: '{csv_file_path}'.\")\n",
    "    print(\"Please double-check the path and the exact filename (including extension and case).\")\n",
    "    print(\"Ensure the file exists at that precise location.\")\n",
    "except pd.errors.EmptyDataError:\n",
    "    print(f\"\\nError: The file '{csv_file_path}' is empty or contains no data.\")\n",
    "except pd.errors.ParserError as e:\n",
    "    print(f\"\\nError parsing the CSV file: {e}\")\n",
    "    print(\"This might be due to a malformed CSV, incorrect delimiter, or encoding issues.\")\n",
    "except Exception as e:\n",
    "    print(f\"\\nAn unexpected error occurred during file processing: {e}\")"
   ]
  },
  {
   "cell_type": "markdown",
   "metadata": {},
   "source": [
    "Question 7: Remove duplicate rows from the dataset."
   ]
  },
  {
   "cell_type": "code",
   "execution_count": 20,
   "metadata": {},
   "outputs": [
    {
     "name": "stdout",
     "output_type": "stream",
     "text": [
      "Attempting to load file from: E:/clubcoder/Python/IBM/my_data.csv\n",
      "\n",
      "ERROR: The file was NOT found at the specified path: 'E:/clubcoder/Python/IBM/my_data.csv'.\n",
      "Please double-check the path and the exact filename (including extension and case).\n",
      "Ensure the file exists at that precise location.\n"
     ]
    }
   ],
   "source": [
    "import pandas as pd\n",
    "import os\n",
    "\n",
    "# --- YOU MUST UPDATE THIS LINE WITH THE ACTUAL, CORRECT PATH TO YOUR CSV FILE ---\n",
    "csv_file_path = 'E:/clubcoder/Python/IBM/my_data.csv' # Example path, replace with your file\n",
    "\n",
    "print(f\"Attempting to load file from: {csv_file_path}\")\n",
    "\n",
    "try:\n",
    "    # Load the CSV file into a Pandas DataFrame\n",
    "    df = pd.read_csv(csv_file_path)\n",
    "\n",
    "    print(f\"\\nSuccessfully loaded '{os.path.basename(csv_file_path)}'.\")\n",
    "\n",
    "    # --- Remove duplicate rows ---\n",
    "\n",
    "    # Get the number of rows before removing duplicates\n",
    "    initial_rows = df.shape[0]\n",
    "    print(f\"\\nNumber of rows BEFORE removing duplicates: {initial_rows}\")\n",
    "\n",
    "    # Remove duplicate rows\n",
    "    # inplace=True modifies the DataFrame directly, or\n",
    "    # df_cleaned = df.drop_duplicates() if you want a new DataFrame\n",
    "    df_cleaned = df.drop_duplicates()\n",
    "\n",
    "    # Get the number of rows after removing duplicates\n",
    "    final_rows = df_cleaned.shape[0]\n",
    "    print(f\"Number of rows AFTER removing duplicates: {final_rows}\")\n",
    "\n",
    "    num_duplicates_removed = initial_rows - final_rows\n",
    "\n",
    "    if num_duplicates_removed > 0:\n",
    "        print(f\"Successfully removed {num_duplicates_removed} duplicate row(s).\")\n",
    "    else:\n",
    "        print(\"No duplicate rows found or removed.\")\n",
    "\n",
    "    # You can now work with 'df_cleaned' which has no duplicate rows.\n",
    "    # If you want to continue using 'df' variable for the cleaned data:\n",
    "    # df = df.drop_duplicates() # This would modify 'df' directly\n",
    "\n",
    "    # Display the first few rows of the cleaned DataFrame to verify\n",
    "    print(\"\\nFirst 5 rows of the DataFrame after removing duplicates:\")\n",
    "    print(df_cleaned.head())\n",
    "\n",
    "\n",
    "except FileNotFoundError:\n",
    "    print(f\"\\nERROR: The file was NOT found at the specified path: '{csv_file_path}'.\")\n",
    "    print(\"Please double-check the path and the exact filename (including extension and case).\")\n",
    "    print(\"Ensure the file exists at that precise location.\")\n",
    "except pd.errors.EmptyDataError:\n",
    "    print(f\"\\nError: The file '{csv_file_path}' is empty or contains no data.\")\n",
    "except pd.errors.ParserError as e:\n",
    "    print(f\"\\nError parsing the CSV file: {e}\")\n",
    "    print(\"This might be due to a malformed CSV, incorrect delimiter, or encoding issues.\")\n",
    "except Exception as e:\n",
    "    print(f\"\\nAn unexpected error occurred during file processing: {e}\")"
   ]
  },
  {
   "cell_type": "markdown",
   "metadata": {},
   "source": [
    "Question 8: Create a histogram to visualize the distribution of a numerical column (e.g., 'price')."
   ]
  },
  {
   "cell_type": "code",
   "execution_count": 21,
   "metadata": {},
   "outputs": [
    {
     "name": "stdout",
     "output_type": "stream",
     "text": [
      "Attempting to load file from: E:/clubcoder/Python/IBM/my_data.csv\n",
      "\n",
      "ERROR: The file was NOT found at the specified path: 'E:/clubcoder/Python/IBM/my_data.csv'.\n",
      "Please double-check the path and the exact filename (including extension and case).\n",
      "Ensure the file exists at that precise location.\n"
     ]
    }
   ],
   "source": [
    "import pandas as pd\n",
    "import matplotlib.pyplot as plt\n",
    "import os\n",
    "\n",
    "# --- YOU MUST UPDATE THIS LINE WITH THE ACTUAL, CORRECT PATH TO YOUR CSV FILE ---\n",
    "csv_file_path = 'E:/clubcoder/Python/IBM/my_data.csv' # Example path, replace with your file\n",
    "\n",
    "# --- YOU MUST UPDATE THIS LINE WITH THE ACTUAL NAME OF YOUR NUMERICAL COLUMN ---\n",
    "numerical_column_name = 'price' # Example column name, replace with your column\n",
    "\n",
    "print(f\"Attempting to load file from: {csv_file_path}\")\n",
    "\n",
    "try:\n",
    "    # Load the CSV file into a Pandas DataFrame\n",
    "    df = pd.read_csv(csv_file_path)\n",
    "\n",
    "    print(f\"\\nSuccessfully loaded '{os.path.basename(csv_file_path)}'.\")\n",
    "\n",
    "    # --- Check if the column exists and is numerical ---\n",
    "    if numerical_column_name not in df.columns:\n",
    "        print(f\"\\nError: Column '{numerical_column_name}' not found in the dataset.\")\n",
    "        print(\"Please check the column name for typos and ensure it exists.\")\n",
    "    elif not pd.api.types.is_numeric_dtype(df[numerical_column_name]):\n",
    "        print(f\"\\nError: Column '{numerical_column_name}' is not a numerical type (its type is {df[numerical_column_name].dtype}).\")\n",
    "        print(\"Histograms are typically used for numerical columns.\")\n",
    "        print(\"Please choose a numerical column from your dataset.\")\n",
    "    else:\n",
    "        # --- Create the histogram ---\n",
    "        plt.figure(figsize=(10, 6)) # Set the figure size for better readability\n",
    "\n",
    "        # Use the .hist() method directly on the Series for convenience\n",
    "        df[numerical_column_name].hist(bins=30, edgecolor='black', alpha=0.7)\n",
    "        # bins: Number of bins to divide the data into\n",
    "        # edgecolor: Color of the bin edges\n",
    "        # alpha: Transparency of the bars\n",
    "\n",
    "        # Add title and labels\n",
    "        plt.title(f'Distribution of {numerical_column_name}', fontsize=16)\n",
    "        plt.xlabel(numerical_column_name, fontsize=12)\n",
    "        plt.ylabel('Frequency', fontsize=12)\n",
    "        plt.grid(axis='y', alpha=0.75) # Add a grid for easier reading\n",
    "\n",
    "        # Display the plot\n",
    "        plt.tight_layout() # Adjust layout to prevent labels from overlapping\n",
    "        plt.show()\n",
    "\n",
    "except FileNotFoundError:\n",
    "    print(f\"\\nERROR: The file was NOT found at the specified path: '{csv_file_path}'.\")\n",
    "    print(\"Please double-check the path and the exact filename (including extension and case).\")\n",
    "    print(\"Ensure the file exists at that precise location.\")\n",
    "except pd.errors.EmptyDataError:\n",
    "    print(f\"\\nError: The file '{csv_file_path}' is empty or contains no data.\")\n",
    "except pd.errors.ParserError as e:\n",
    "    print(f\"\\nError parsing the CSV file: {e}\")\n",
    "    print(\"This might be due to a malformed CSV, incorrect delimiter, or encoding issues.\")\n",
    "except Exception as e:\n",
    "    print(f\"\\nAn unexpected error occurred during file processing: {e}\")"
   ]
  },
  {
   "cell_type": "markdown",
   "metadata": {},
   "source": [
    "Question 9: Create a scatter plot to visualize the relationship between two numerical variables"
   ]
  },
  {
   "cell_type": "code",
   "execution_count": 22,
   "metadata": {},
   "outputs": [
    {
     "name": "stdout",
     "output_type": "stream",
     "text": [
      "Attempting to load file from: E:/clubcoder/Python/IBM/my_data.csv\n",
      "\n",
      "ERROR: The file was NOT found at the specified path: 'E:/clubcoder/Python/IBM/my_data.csv'.\n",
      "Please double-check the path and the exact filename (including extension and case).\n",
      "Ensure the file exists at that precise location.\n"
     ]
    }
   ],
   "source": [
    "import pandas as pd\n",
    "import matplotlib.pyplot as plt\n",
    "import os\n",
    "\n",
    "# --- YOU MUST UPDATE THIS LINE WITH THE ACTUAL, CORRECT PATH TO YOUR CSV FILE ---\n",
    "csv_file_path = 'E:/clubcoder/Python/IBM/my_data.csv' # Example path, replace with your file\n",
    "\n",
    "# --- YOU MUST UPDATE THESE LINES WITH THE ACTUAL NAMES OF YOUR NUMERICAL COLUMNS ---\n",
    "x_column_name = 'feature_1' # Example: 'Age', 'Sales', 'Temperature'\n",
    "y_column_name = 'feature_2' # Example: 'Income', 'Profit', 'Humidity'\n",
    "\n",
    "print(f\"Attempting to load file from: {csv_file_path}\")\n",
    "\n",
    "try:\n",
    "    # Load the CSV file into a Pandas DataFrame\n",
    "    df = pd.read_csv(csv_file_path)\n",
    "\n",
    "    print(f\"\\nSuccessfully loaded '{os.path.basename(csv_file_path)}'.\")\n",
    "\n",
    "    # --- Check if columns exist and are numerical ---\n",
    "    missing_columns = []\n",
    "    if x_column_name not in df.columns:\n",
    "        missing_columns.append(x_column_name)\n",
    "    if y_column_name not in df.columns:\n",
    "        missing_columns.append(y_column_name)\n",
    "\n",
    "    if missing_columns:\n",
    "        print(f\"\\nError: Column(s) {missing_columns} not found in the dataset.\")\n",
    "        print(\"Please check the column names for typos and ensure they exist.\")\n",
    "    elif not pd.api.types.is_numeric_dtype(df[x_column_name]):\n",
    "        print(f\"\\nError: Column '{x_column_name}' is not a numerical type (its type is {df[x_column_name].dtype}).\")\n",
    "        print(\"Scatter plots are typically used for numerical columns.\")\n",
    "        print(\"Please choose numerical columns from your dataset.\")\n",
    "    elif not pd.api.types.is_numeric_dtype(df[y_column_name]):\n",
    "        print(f\"\\nError: Column '{y_column_name}' is not a numerical type (its type is {df[y_column_name].dtype}).\")\n",
    "        print(\"Scatter plots are typically used for numerical columns.\")\n",
    "        print(\"Please choose numerical columns from your dataset.\")\n",
    "    else:\n",
    "        # --- Create the scatter plot ---\n",
    "        plt.figure(figsize=(10, 6)) # Set the figure size for better readability\n",
    "\n",
    "        plt.scatter(df[x_column_name], df[y_column_name], alpha=0.7, s=50) # s is marker size\n",
    "\n",
    "        # Add title and labels\n",
    "        plt.title(f'Relationship between {x_column_name} and {y_column_name}', fontsize=16)\n",
    "        plt.xlabel(x_column_name, fontsize=12)\n",
    "        plt.ylabel(y_column_name, fontsize=12)\n",
    "        plt.grid(True, linestyle='--', alpha=0.6) # Add a grid\n",
    "\n",
    "        # Display the plot\n",
    "        plt.tight_layout() # Adjust layout to prevent labels from overlapping\n",
    "        plt.show()\n",
    "\n",
    "except FileNotFoundError:\n",
    "    print(f\"\\nERROR: The file was NOT found at the specified path: '{csv_file_path}'.\")\n",
    "    print(\"Please double-check the path and the exact filename (including extension and case).\")\n",
    "    print(\"Ensure the file exists at that precise location.\")\n",
    "except pd.errors.EmptyDataError:\n",
    "    print(f\"\\nError: The file '{csv_file_path}' is empty or contains no data.\")\n",
    "except pd.errors.ParserError as e:\n",
    "    print(f\"\\nError parsing the CSV file: {e}\")\n",
    "    print(\"This might be due to a malformed CSV, incorrect delimiter, or encoding issues.\")\n",
    "except Exception as e:\n",
    "    print(f\"\\nAn unexpected error occurred during file processing: {e}\")"
   ]
  },
  {
   "cell_type": "markdown",
   "metadata": {},
   "source": [
    "Question 10: Visualize the correlation matrix of the dataset using a heatmap."
   ]
  },
  {
   "cell_type": "code",
   "execution_count": 23,
   "metadata": {},
   "outputs": [
    {
     "name": "stdout",
     "output_type": "stream",
     "text": [
      "Attempting to load file from: E:/clubcoder/Python/IBM/my_data.csv\n",
      "\n",
      "ERROR: The file was NOT found at the specified path: 'E:/clubcoder/Python/IBM/my_data.csv'.\n",
      "Please double-check the path and the exact filename (including extension and case).\n",
      "Ensure the file exists at that precise location.\n"
     ]
    }
   ],
   "source": [
    "import pandas as pd\n",
    "import seaborn as sns\n",
    "import matplotlib.pyplot as plt\n",
    "import os\n",
    "\n",
    "# --- YOU MUST UPDATE THIS LINE WITH THE ACTUAL, CORRECT PATH TO YOUR CSV FILE ---\n",
    "csv_file_path = 'E:/clubcoder/Python/IBM/my_data.csv' # Example path, replace with your file\n",
    "\n",
    "print(f\"Attempting to load file from: {csv_file_path}\")\n",
    "\n",
    "try:\n",
    "    # Load the CSV file into a Pandas DataFrame\n",
    "    df = pd.read_csv(csv_file_path)\n",
    "\n",
    "    print(f\"\\nSuccessfully loaded '{os.path.basename(csv_file_path)}'.\")\n",
    "\n",
    "    # --- Select only numerical columns for correlation calculation ---\n",
    "    # .corr() works only on numerical data. We'll filter for numeric types.\n",
    "    numerical_df = df.select_dtypes(include=['number'])\n",
    "\n",
    "    if numerical_df.empty:\n",
    "        print(\"\\nError: No numerical columns found in the dataset to compute correlation.\")\n",
    "        print(\"Please ensure your dataset contains numerical data.\")\n",
    "    else:\n",
    "        # --- Calculate the correlation matrix ---\n",
    "        correlation_matrix = numerical_df.corr()\n",
    "\n",
    "        # --- Visualize the correlation matrix using a heatmap ---\n",
    "        plt.figure(figsize=(12, 10)) # Set the figure size for better readability\n",
    "\n",
    "        sns.heatmap(\n",
    "            correlation_matrix,\n",
    "            annot=True,      # Show the correlation values on the heatmap\n",
    "            cmap='coolwarm', # Color map (coolwarm is good for correlations, shows positive/negative)\n",
    "            fmt=\".2f\",       # Format annotations to two decimal places\n",
    "            linewidths=.5    # Add lines between cells\n",
    "        )\n",
    "\n",
    "        plt.title('Correlation Matrix of Numerical Columns', fontsize=18)\n",
    "        plt.xticks(rotation=45, ha='right') # Rotate x-axis labels for better readability\n",
    "        plt.yticks(rotation=0)             # Keep y-axis labels horizontal\n",
    "        plt.tight_layout()                 # Adjust layout to prevent labels from overlapping\n",
    "        plt.show()\n",
    "\n",
    "except FileNotFoundError:\n",
    "    print(f\"\\nERROR: The file was NOT found at the specified path: '{csv_file_path}'.\")\n",
    "    print(\"Please double-check the path and the exact filename (including extension and case).\")\n",
    "    print(\"Ensure the file exists at that precise location.\")\n",
    "except pd.errors.EmptyDataError:\n",
    "    print(f\"\\nError: The file '{csv_file_path}' is empty or contains no data.\")\n",
    "except pd.errors.ParserError as e:\n",
    "    print(f\"\\nError parsing the CSV file: {e}\")\n",
    "    print(\"This might be due to a malformed CSV, incorrect delimiter, or encoding issues.\")\n",
    "except Exception as e:\n",
    "    print(f\"\\nAn unexpected error occurred during file processing: {e}\")"
   ]
  }
 ],
 "metadata": {
  "kernelspec": {
   "display_name": "Python 3",
   "language": "python",
   "name": "python3"
  },
  "language_info": {
   "codemirror_mode": {
    "name": "ipython",
    "version": 3
   },
   "file_extension": ".py",
   "mimetype": "text/x-python",
   "name": "python",
   "nbconvert_exporter": "python",
   "pygments_lexer": "ipython3",
   "version": "3.10.12"
  }
 },
 "nbformat": 4,
 "nbformat_minor": 2
}

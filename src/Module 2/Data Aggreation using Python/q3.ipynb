{
 "cells": [
  {
   "cell_type": "markdown",
   "metadata": {},
   "source": [
    "Pivot Tables & Advanced Aggregations<br>\n",
    "Objective: Utilize pivot tables for complex aggregation tasks."
   ]
  },
  {
   "cell_type": "markdown",
   "metadata": {},
   "source": [
    "Task 1: Creating a Basic Pivot Table<br>\n",
    "Task: Create a pivot table that shows the total sales for each 'category' across 'years'.<br>\n",
    "Steps:<br>\n",
    "19. Use pandas pivot_table() function.<br>\n",
    "20. Set index='year' and columns='category' .<br>\n",
    "21. Define the value parameter as 'sales' and aggregation function as np.sum ."
   ]
  },
  {
   "cell_type": "code",
   "execution_count": null,
   "metadata": {},
   "outputs": [],
   "source": [
    "import pandas as pd\n",
    "import numpy as np\n",
    "\n",
    "# Sample dataset\n",
    "data = {'year': [2022, 2022, 2023, 2023, 2022, 2023, 2022, 2023],\n",
    "        'category': ['Electronics', 'Clothing', 'Electronics', 'Clothing', 'Books', 'Books', 'Home Goods', 'Home Goods'],\n",
    "        'sales': [1500, 800, 1800, 950, 300, 350, 600, 700]}\n",
    "df = pd.DataFrame(data)\n",
    "\n",
    "print(\"Sample Dataset:\")\n",
    "print(df)\n",
    "\n",
    "# Create the pivot table\n",
    "pivot_table = pd.pivot_table(df,\n",
    "                               index='year',\n",
    "                               columns='category',\n",
    "                               values='sales',\n",
    "                               aggfunc=np.sum)\n",
    "\n",
    "print(\"\\nPivot Table: Total Sales by Category and Year\")\n",
    "print(pivot_table)"
   ]
  },
  {
   "cell_type": "markdown",
   "metadata": {},
   "source": [
    "Task 2: Pivot Table with Multiple Aggregations<br>\n",
    "\n",
    "Task: Generate a pivot table with both mean and max of 'profit' for 'category' each month.<br>\n",
    "Steps:<br>\n",
    "22. Create a pivot table.<br>\n",
    "23. Use aggfunc=['mean', 'max'] .<br>\n",
    "24. Analyze the pivot table output."
   ]
  },
  {
   "cell_type": "code",
   "execution_count": null,
   "metadata": {},
   "outputs": [],
   "source": [
    "# Write your code from here\n",
    "import pandas as pd\n",
    "import numpy as np\n",
    "\n",
    "# Sample dataset\n",
    "data = {'month': ['Jan', 'Jan', 'Feb', 'Feb', 'Jan', 'Feb', 'Jan', 'Feb'],\n",
    "        'category': ['Electronics', 'Clothing', 'Electronics', 'Clothing', 'Books', 'Books', 'Home Goods', 'Home Goods'],\n",
    "        'profit': [200, 100, 250, 120, 80, 90, 150, 180]}\n",
    "df = pd.DataFrame(data)\n",
    "\n",
    "print(\"Sample Dataset:\")\n",
    "print(df)\n",
    "\n",
    "# Create the pivot table with multiple aggregations\n",
    "pivot_table_multi_agg = pd.pivot_table(df,\n",
    "                                       index='month',\n",
    "                                       columns='category',\n",
    "                                       values='profit',\n",
    "                                       aggfunc=['mean', 'max'])\n",
    "\n",
    "print(\"\\nPivot Table: Mean and Max Profit by Category and Month\")\n",
    "print(pivot_table_multi_agg)"
   ]
  },
  {
   "cell_type": "markdown",
   "metadata": {},
   "source": [
    "Task 3: Advanced Pivot Table with Margins<br>\n",
    "\n",
    "Task: Create a pivot table that includes subtotals for each 'region' and 'category'.<br>\n",
    "Steps:<br>\n",
    "25. Use pivot_table() with margins=True .<br>\n",
    "26. Set the index and columns appropriately.<br>\n",
    "27. Validate subtotal correctness by summing manually."
   ]
  },
  {
   "cell_type": "code",
   "execution_count": null,
   "metadata": {},
   "outputs": [],
   "source": [
    "# Write your code from here\n",
    "import pandas as pd\n",
    "import numpy as np\n",
    "\n",
    "# Sample dataset\n",
    "data = {'region': ['East', 'East', 'West', 'West', 'East', 'West', 'East', 'West'],\n",
    "        'category': ['Electronics', 'Clothing', 'Electronics', 'Clothing', 'Books', 'Books', 'Home Goods', 'Home Goods'],\n",
    "        'sales': [1500, 800, 1800, 950, 300, 350, 600, 700]}\n",
    "df = pd.DataFrame(data)\n",
    "\n",
    "print(\"Sample Dataset:\")\n",
    "print(df)\n",
    "\n",
    "# Create the pivot table with margins\n",
    "pivot_table_margins = pd.pivot_table(df,\n",
    "                                     index='region',\n",
    "                                     columns='category',\n",
    "                                     values='sales',\n",
    "                                     aggfunc=np.sum,\n",
    "                                     margins=True,\n",
    "                                     margins_name='Total')\n",
    "\n",
    "print(\"\\nPivot Table: Total Sales by Region and Category with Margins\")\n",
    "print(pivot_table_margins)"
   ]
  }
 ],
 "metadata": {
  "kernelspec": {
   "display_name": "Python 3",
   "language": "python",
   "name": "python3"
  },
  "language_info": {
   "codemirror_mode": {
    "name": "ipython",
    "version": 3
   },
   "file_extension": ".py",
   "mimetype": "text/x-python",
   "name": "python",
   "nbconvert_exporter": "python",
   "pygments_lexer": "ipython3",
   "version": "3.10.12"
  }
 },
 "nbformat": 4,
 "nbformat_minor": 2
}

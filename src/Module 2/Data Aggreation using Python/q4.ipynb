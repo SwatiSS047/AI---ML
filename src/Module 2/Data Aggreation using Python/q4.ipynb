{
 "cells": [
  {
   "cell_type": "markdown",
   "metadata": {},
   "source": [
    "Title: Hands-on: Real-World Data Aggregation<br>\n",
    "Objective: Apply learned concepts to real-world data scenarios"
   ]
  },
  {
   "cell_type": "code",
   "execution_count": null,
   "metadata": {},
   "outputs": [],
   "source": []
  },
  {
   "cell_type": "markdown",
   "metadata": {},
   "source": [
    "Task 1: Analyzing Sales by Region<br>\n",
    "\n",
    "Task: Use a real-world sales dataset to calculate yearly sales trends by region.<br>\n",
    " Steps:<br>\n",
    " 28. Acquire a dataset containing columns such as 'date', 'region', and 'sales'.<br>\n",
    " 29. Extract the year from the 'date' column.<br>\n",
    " 30. Group by 'year' and 'region' to apply the sum aggregation on 'sales'"
   ]
  },
  {
   "cell_type": "code",
   "execution_count": null,
   "metadata": {},
   "outputs": [],
   "source": []
  },
  {
   "cell_type": "code",
   "execution_count": null,
   "metadata": {},
   "outputs": [],
   "source": [
    "import pandas as pd\n",
    "\n",
    "# Step 28: Load the dataset\n",
    "# Replace 'sales_data.csv' with the actual path to your file if needed\n",
    "try:\n",
    "    sales_df = pd.read_csv('sales_data.csv')\n",
    "    print(\"Dataset loaded successfully!\")\n",
    "    print(\"\\nFirst few rows of your data:\")\n",
    "    print(sales_df.head())\n",
    "\n",
    "    # Step 29: Extract the year from the 'date' column\n",
    "    # Ensure the 'date' column is in datetime format\n",
    "    sales_df['date'] = pd.to_datetime(sales_df['date'])\n",
    "    sales_df['year'] = sales_df['date'].dt.year\n",
    "    print(\"\\nDataset with 'year' extracted:\")\n",
    "    print(sales_df.head())\n",
    "\n",
    "    # Step 30: Group by 'year' and 'region' and sum 'sales'\n",
    "    yearly_regional_sales = sales_df.groupby(['year', 'region'])['sales'].sum().reset_index()\n",
    "\n",
    "    print(\"\\nYearly Sales Trends by Region:\")\n",
    "    print(yearly_regional_sales)\n",
    "\n",
    "except FileNotFoundError:\n",
    "    print(f\"Error: The file 'sales_data.csv' was not found. Please make sure the file is in the correct directory or provide the full path.\")\n",
    "except KeyError as e:\n",
    "    print(f\"Error: Column '{e}' not found in the dataset. Please ensure your dataset has 'date', 'region', and 'sales' columns.\")\n",
    "except Exception as e:\n",
    "    print(f\"An unexpected error occurred: {e}\")"
   ]
  },
  {
   "cell_type": "markdown",
   "metadata": {},
   "source": [
    "Task 2: Customer Purchase Patterns<br>\n",
    "\n",
    "Task: Find the top 5 customers by the total amount spent using a purchases dataset.<br>\n",
    " Steps:<br>\n",
    " 31. Load a dataset with 'customer_id' and 'amount_spent'.<br>\n",
    " 32. Group by 'customer_id'.<br>\n",
    " 33. Use .sum() on 'amount_spent' and sort values"
   ]
  },
  {
   "cell_type": "code",
   "execution_count": null,
   "metadata": {},
   "outputs": [],
   "source": [
    "import pandas as pd\n",
    "\n",
    "# Step 31: Load the dataset\n",
    "# Replace 'purchases.csv' with the actual path to your file if needed\n",
    "try:\n",
    "    purchases_df = pd.read_csv('purchases.csv')\n",
    "    print(\"Purchases dataset loaded successfully!\")\n",
    "    print(\"\\nFirst few rows of your purchases data:\")\n",
    "    print(purchases_df.head())\n",
    "\n",
    "    # Step 32: Group by 'customer_id'\n",
    "    customer_spending = purchases_df.groupby('customer_id')\n",
    "\n",
    "    # Step 33: Use .sum() on 'amount_spent' and sort values\n",
    "    total_spending_per_customer = customer_spending['amount_spent'].sum()\n",
    "    top_5_customers = total_spending_per_customer.sort_values(ascending=False).head(5)\n",
    "\n",
    "    print(\"\\nTop 5 Customers by Total Amount Spent:\")\n",
    "    print(top_5_customers)\n",
    "\n",
    "except FileNotFoundError:\n",
    "    print(f\"Error: The file 'purchases.csv' was not found. Please ensure the file is in the correct directory or provide the full path.\")\n",
    "except KeyError as e:\n",
    "    print(f\"Error: Column '{e}' not found in the dataset. Please ensure your dataset has 'customer_id' and 'amount_spent' columns.\")\n",
    "except Exception as e:\n",
    "    print(f\"An unexpected error occurred: {e}\")"
   ]
  },
  {
   "cell_type": "markdown",
   "metadata": {},
   "source": [
    " Task 3: Seasonality Analysis<br>\n",
    "\n",
    " Task: Determine which months have the highest and lowest sales for a retail dataset.<br>\n",
    " Steps:<br>\n",
    " 34. Use a dataset with 'transaction_date' and 'sales'.<br>\n",
    " 35. Extract the month from 'transaction_date'.<br>\n",
    " 36. Group by 'month' and sum 'sales', then sort to find extremes"
   ]
  },
  {
   "cell_type": "code",
   "execution_count": null,
   "metadata": {},
   "outputs": [],
   "source": [
    "import pandas as pd\n",
    "\n",
    "# Step 34: Load the dataset\n",
    "# Replace 'Retail_sales.csv' with the actual path to your file if needed\n",
    "try:\n",
    "    retail_df = pd.read_csv('Retail_sales.csv')\n",
    "    print(\"Retail sales dataset loaded successfully!\")\n",
    "    print(\"\\nFirst few rows of your retail sales data:\")\n",
    "    print(retail_df.head())\n",
    "\n",
    "    # Step 35: Extract the month from 'transaction_date'\n",
    "    # Ensure the 'transaction_date' column is in datetime format\n",
    "    retail_df['transaction_date'] = pd.to_datetime(retail_df['transaction_date'])\n",
    "    retail_df['month'] = retail_df['transaction_date'].dt.month\n",
    "    retail_df['month_name'] = retail_df['transaction_date'].dt.month_name()\n",
    "    print(\"\\nDataset with 'month' and 'month_name' extracted:\")\n",
    "    print(retail_df.head())\n",
    "\n",
    "    # Step 36: Group by 'month_name' and sum 'sales', then sort\n",
    "    monthly_sales = retail_df.groupby('month_name')['sales'].sum()\n",
    "    highest_sales_month = monthly_sales.sort_values(ascending=False).head(1)\n",
    "    lowest_sales_month = monthly_sales.sort_values(ascending=True).head(1)\n",
    "\n",
    "    print(\"\\nTotal Sales by Month:\")\n",
    "    print(monthly_sales)\n",
    "\n",
    "    print(\"\\nMonth with the Highest Sales:\")\n",
    "    print(highest_sales_month)\n",
    "\n",
    "    print(\"\\nMonth with the Lowest Sales:\")\n",
    "    print(lowest_sales_month)\n",
    "\n",
    "except FileNotFoundError:\n",
    "    print(f\"Error: The file 'Retail_sales.csv' was not found. Please ensure the file is in the correct directory or provide the full path.\")\n",
    "except KeyError as e:\n",
    "    print(f\"Error: Column '{e}' not found in the dataset. Please ensure your dataset has 'transaction_date' and 'sales' columns.\")\n",
    "except Exception as e:\n",
    "    print(f\"An unexpected error occurred: {e}\")"
   ]
  }
 ],
 "metadata": {
  "kernelspec": {
   "display_name": "Python 3",
   "language": "python",
   "name": "python3"
  },
  "language_info": {
   "codemirror_mode": {
    "name": "ipython",
    "version": 3
   },
   "file_extension": ".py",
   "mimetype": "text/x-python",
   "name": "python",
   "nbconvert_exporter": "python",
   "pygments_lexer": "ipython3",
   "version": "3.10.12"
  }
 },
 "nbformat": 4,
 "nbformat_minor": 2
}

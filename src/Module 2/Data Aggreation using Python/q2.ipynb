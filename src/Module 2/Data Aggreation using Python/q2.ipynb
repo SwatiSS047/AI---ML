{
 "cells": [
  {
   "cell_type": "markdown",
   "metadata": {},
   "source": [
    "Title: Grouping & Aggregating Data using Pandas<br>\n",
    "Objective: Learn how to group data and perform aggregations on these groups."
   ]
  },
  {
   "cell_type": "markdown",
   "metadata": {},
   "source": [
    "Task 1: Grouping by a Single Column<br>\n",
    "\n",
    "Task: Group the dataset by 'region' and calculate total sales per region.<br>\n",
    "Steps:<br>\n",
    "10. Load the dataset.<br>\n",
    "11. Use groupby('region') on the DataFrame.<br>\n",
    "12. Apply .sum() to the 'sales' column."
   ]
  },
  {
   "cell_type": "code",
   "execution_count": null,
   "metadata": {},
   "outputs": [],
   "source": [
    "import pandas as pd\n",
    "\n",
    "# Step 10: Load the dataset\n",
    "# Replace 'sales_data.csv' with the actual path to your file if needed\n",
    "try:\n",
    "    sales_df = pd.read_csv('sales_data.csv')\n",
    "    print(\"Dataset loaded successfully!\")\n",
    "    print(\"\\nFirst few rows of your data:\")\n",
    "    print(sales_df.head())\n",
    "\n",
    "    # Step 11: Use groupby('region') on the DataFrame\n",
    "    grouped_by_region = sales_df.groupby('region')\n",
    "\n",
    "    # Step 12: Apply .sum() to the 'sales' column\n",
    "    total_sales_per_region = grouped_by_region['sales'].sum()\n",
    "\n",
    "    print(\"\\nTotal Sales per Region:\")\n",
    "    print(total_sales_per_region)\n",
    "\n",
    "except FileNotFoundError:\n",
    "    print(f\"Error: The file 'sales_data.csv' was not found. Please make sure the file is in the correct directory or provide the full path.\")\n",
    "except KeyError as e:\n",
    "    print(f\"Error: Column '{e}' not found in the dataset. Please ensure your dataset has a 'region' and a 'sales' column.\")\n",
    "except Exception as e:\n",
    "    print(f\"An unexpected error occurred: {e}\")"
   ]
  },
  {
   "cell_type": "markdown",
   "metadata": {},
   "source": [
    "Task 2: Grouping by Multiple Columns<br>\n",
    "\n",
    "Task: Group the dataset by 'region' and 'category', then find the average sales.<br>\n",
    "Steps:<br>\n",
    "13. Group by ['region', 'category'].<br>\n",
    "14. Use .mean() on the 'sales' column.<br>\n",
    "15. Examine the resulting DataFrame structure."
   ]
  },
  {
   "cell_type": "code",
   "execution_count": null,
   "metadata": {},
   "outputs": [],
   "source": [
    "import pandas as pd\n",
    "\n",
    "# Step 10: Load the dataset (assuming 'sales_data.csv' is in the same directory)\n",
    "try:\n",
    "    sales_df = pd.read_csv('sales_data.csv')\n",
    "    print(\"Dataset loaded successfully!\")\n",
    "\n",
    "    # Step 13: Group by ['region', 'category']\n",
    "    grouped_by_region_category = sales_df.groupby(['region', 'category'])\n",
    "\n",
    "    # Step 14: Use .mean() on the 'sales' column\n",
    "    average_sales_per_region_category = grouped_by_region_category['sales'].mean()\n",
    "\n",
    "    print(\"\\nAverage Sales per Region and Category:\")\n",
    "    print(average_sales_per_region_category)\n",
    "\n",
    "    # Step 15: Examine the resulting DataFrame structure\n",
    "    print(\"\\nType of the result:\", type(average_sales_per_region_category))\n",
    "    print(\"\\nIndex of the result:\")\n",
    "    print(average_sales_per_region_category.index)\n",
    "\n",
    "    average_sales_df = average_sales_per_region_category.reset_index()\n",
    "    print(\"\\nResulting DataFrame structure:\")\n",
    "    print(average_sales_df)\n",
    "\n",
    "except FileNotFoundError:\n",
    "    print(f\"Error: The file 'sales_data.csv' was not found. Please make sure the file is in the correct directory or provide the full path.\")\n",
    "except KeyError as e:\n",
    "    print(f\"Error: Column '{e}' not found in the dataset. Please ensure your dataset has 'region', 'category', and 'sales' columns.\")\n",
    "except Exception as e:\n",
    "    print(f\"An unexpected error occurred: {e}\")"
   ]
  },
  {
   "cell_type": "markdown",
   "metadata": {},
   "source": [
    "Task 3: Aggregating Multiple Functions<br>\n",
    "\n",
    "Task: Group data by 'category' and apply multiple aggregation functions (sum and count) on 'quantity'.<br>\n",
    "Steps:<br>\n",
    "16. Group by 'category'.<br>\n",
    "17. Use .agg(['sum', 'count']) on 'quantity'.<br>\n",
    "18. Analyze the result to understand how multiple aggregations work."
   ]
  },
  {
   "cell_type": "code",
   "execution_count": null,
   "metadata": {},
   "outputs": [],
   "source": [
    "import pandas as pd\n",
    "\n",
    "# Step 10: Load the dataset (assuming 'sales_data.csv' is in the same directory)\n",
    "try:\n",
    "    sales_df = pd.read_csv('sales_data.csv')\n",
    "    print(\"Dataset loaded successfully!\")\n",
    "\n",
    "    # Step 16: Group by 'category'\n",
    "    grouped_by_category = sales_df.groupby('category')\n",
    "\n",
    "    # Step 17: Use .agg(['sum', 'count']) on 'quantity'\n",
    "    quantity_summary = grouped_by_category['quantity'].agg(['sum', 'count'])\n",
    "\n",
    "    print(\"\\nQuantity Summary by Category (Sum and Count):\")\n",
    "    print(quantity_summary)\n",
    "\n",
    "    # Step 18: Analyze the result\n",
    "    print(\"\\nType of the result:\", type(quantity_summary))\n",
    "    print(\"\\nIndex of the result (Categories):\")\n",
    "    print(quantity_summary.index)\n",
    "    print(\"\\nColumns of the result (Aggregation functions):\")\n",
    "    print(quantity_summary.columns)\n",
    "\n",
    "except FileNotFoundError:\n",
    "    print(f\"Error: The file 'sales_data.csv' was not found. Please make sure the file is in the correct directory or provide the full path.\")\n",
    "except KeyError as e:\n",
    "    print(f\"Error: Column '{e}' not found in the dataset. Please ensure your dataset has 'category' and 'quantity' columns.\")\n",
    "except Exception as e:\n",
    "    print(f\"An unexpected error occurred: {e}\")"
   ]
  }
 ],
 "metadata": {
  "kernelspec": {
   "display_name": "Python 3",
   "language": "python",
   "name": "python3"
  },
  "language_info": {
   "codemirror_mode": {
    "name": "ipython",
    "version": 3
   },
   "file_extension": ".py",
   "mimetype": "text/x-python",
   "name": "python",
   "nbconvert_exporter": "python",
   "pygments_lexer": "ipython3",
   "version": "3.10.12"
  }
 },
 "nbformat": 4,
 "nbformat_minor": 2
}

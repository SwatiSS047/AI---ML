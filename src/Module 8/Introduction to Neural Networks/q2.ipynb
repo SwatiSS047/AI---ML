{
 "cells": [
  {
   "cell_type": "code",
   "execution_count": 1,
   "metadata": {},
   "outputs": [],
   "source": [
    "# Question 2: Compare Biological and Artificial Neurons using Code\n",
    "# Description: Visualize how biological neurons and artificial neurons process information differently."
   ]
  },
  {
   "cell_type": "code",
   "execution_count": null,
   "metadata": {},
   "outputs": [],
   "source": [
    "import matplotlib.pyplot as plt\n",
    "import numpy as np\n",
    "\n",
    "# -----------------------------\n",
    "# Biological Neuron (Simplified)\n",
    "# -----------------------------\n",
    "def biological_neuron(signals, threshold=5):\n",
    "    total_input = sum(signals)\n",
    "    fired = total_input > threshold\n",
    "    return fired, total_input\n",
    "\n",
    "# -----------------------------\n",
    "# Artificial Neuron\n",
    "# -----------------------------\n",
    "def artificial_neuron(inputs, weights, bias=0, activation='step'):\n",
    "    total = np.dot(inputs, weights) + bias\n",
    "    if activation == 'step':\n",
    "        output = 1 if total > 0 else 0\n",
    "    elif activation == 'sigmoid':\n",
    "        output = 1 / (1 + np.exp(-total))\n",
    "    else:\n",
    "        output = total\n",
    "    return output, total\n",
    "\n",
    "# -----------------------------\n",
    "# Inputs\n",
    "# -----------------------------\n",
    "inputs = [1, 2, 3]\n",
    "weights = [0.4, 0.6, 0.1]\n",
    "bias = -1\n",
    "threshold = 5\n",
    "\n",
    "# -----------------------------\n",
    "# Process through Neurons\n",
    "# -----------------------------\n",
    "bio_fired, bio_input = biological_neuron(inputs, threshold)\n",
    "ann_output, ann_input = artificial_neuron(inputs, weights, bias, activation='sigmoid')\n",
    "\n",
    "# -----------------------------\n",
    "# Visualization\n",
    "# -----------------------------\n",
    "fig, axs = plt.subplots(1, 2, figsize=(10, 4))\n",
    "\n",
    "# Biological Neuron Plot\n",
    "axs[0].bar(['Total Input'], [bio_input], color='skyblue')\n",
    "axs[0].axhline(threshold, color='red', linestyle='--', label='Threshold')\n",
    "axs[0].set_title('Biological Neuron')\n",
    "axs[0].set_ylim(0, 10)\n",
    "axs[0].legend()\n",
    "axs[0].text(0, bio_input + 0.5, f'Fired: {bio_fired}', fontsize=12)\n",
    "\n",
    "# Artificial Neuron Plot\n",
    "axs[1].bar(['Weighted Sum'], [ann_input], color='orange')\n",
    "axs[1].set_title('Artificial Neuron (Sigmoid)')\n",
    "axs[1].text(0, ann_input + 0.5, f'Output: {ann_output:.2f}', fontsize=12)\n",
    "\n",
    "plt.tight_layout()\n",
    "plt.show()\n"
   ]
  }
 ],
 "metadata": {
  "kernelspec": {
   "display_name": "Python 3",
   "language": "python",
   "name": "python3"
  },
  "language_info": {
   "codemirror_mode": {
    "name": "ipython",
    "version": 3
   },
   "file_extension": ".py",
   "mimetype": "text/x-python",
   "name": "python",
   "nbconvert_exporter": "python",
   "pygments_lexer": "ipython3",
   "version": "3.12.5"
  }
 },
 "nbformat": 4,
 "nbformat_minor": 2
}
